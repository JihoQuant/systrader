{
 "cells": [
  {
   "cell_type": "code",
   "execution_count": 1,
   "metadata": {},
   "outputs": [],
   "source": [
    "%load_ext autoreload\n",
    "%autoreload 2\n",
    "\n",
    "from quantylab.systrader.creon import Creon\n",
    "c = Creon()"
   ]
  },
  {
   "cell_type": "code",
   "execution_count": 3,
   "metadata": {},
   "outputs": [
    {
     "name": "stdout",
     "output_type": "stream",
     "text": [
      "{'code': 'A005930', 'total_offer': 991387, 'total_bid': 1709229, 'offer_1': 74000, 'bid_1': 73900, 'offer_volume_1': 106910, 'bid_volume_1': 135860, 'offer_2': 73900, 'bid_2': 106910, 'offer_volume_2': 135860, 'bid_volume_2': 74100, 'offer_3': 106910, 'bid_3': 135860, 'offer_volume_3': 74100, 'bid_volume_3': 73800, 'offer_4': 135860, 'bid_4': 74100, 'offer_volume_4': 73800, 'bid_volume_4': 152035, 'offer_5': 74100, 'bid_5': 73800, 'offer_volume_5': 152035, 'bid_volume_5': 92087, 'offer_6': 73800, 'bid_6': 152035, 'offer_volume_6': 92087, 'bid_volume_6': 74200, 'offer_7': 152035, 'bid_7': 92087, 'offer_volume_7': 74200, 'bid_volume_7': 73700, 'offer_8': 92087, 'bid_8': 74200, 'offer_volume_8': 73700, 'bid_volume_8': 95624, 'offer_9': 74200, 'bid_9': 73700, 'offer_volume_9': 95624, 'bid_volume_9': 109154, 'offer_10': 73700, 'bid_10': 95624, 'offer_volume_10': 109154, 'bid_volume_10': 74300}\n"
     ]
    }
   ],
   "source": [
    "def cb(item):\n",
    "    print(item)\n",
    "\n",
    "c.subscribe_stockbid('005930', cb)"
   ]
  },
  {
   "cell_type": "code",
   "execution_count": 4,
   "metadata": {},
   "outputs": [
    {
     "name": "stdout",
     "output_type": "stream",
     "text": [
      "{'code': 'A005930', 'total_offer': 991386, 'total_bid': 1709229, 'offer_1': 74000, 'bid_1': 73900, 'offer_volume_1': 106909, 'bid_volume_1': 135860, 'offer_2': 73900, 'bid_2': 106909, 'offer_volume_2': 135860, 'bid_volume_2': 74100, 'offer_3': 106909, 'bid_3': 135860, 'offer_volume_3': 74100, 'bid_volume_3': 73800, 'offer_4': 135860, 'bid_4': 74100, 'offer_volume_4': 73800, 'bid_volume_4': 152035, 'offer_5': 74100, 'bid_5': 73800, 'offer_volume_5': 152035, 'bid_volume_5': 92087, 'offer_6': 73800, 'bid_6': 152035, 'offer_volume_6': 92087, 'bid_volume_6': 74200, 'offer_7': 152035, 'bid_7': 92087, 'offer_volume_7': 74200, 'bid_volume_7': 73700, 'offer_8': 92087, 'bid_8': 74200, 'offer_volume_8': 73700, 'bid_volume_8': 95624, 'offer_9': 74200, 'bid_9': 73700, 'offer_volume_9': 95624, 'bid_volume_9': 109154, 'offer_10': 73700, 'bid_10': 95624, 'offer_volume_10': 109154, 'bid_volume_10': 74300}\n"
     ]
    }
   ],
   "source": [
    "c.unsubscribe_stockbid('005930')"
   ]
  }
 ],
 "metadata": {
  "kernelspec": {
   "display_name": "Python 3",
   "language": "python",
   "name": "python3"
  },
  "language_info": {
   "codemirror_mode": {
    "name": "ipython",
    "version": 3
   },
   "file_extension": ".py",
   "mimetype": "text/x-python",
   "name": "python",
   "nbconvert_exporter": "python",
   "pygments_lexer": "ipython3",
   "version": "3.8.5"
  }
 },
 "nbformat": 4,
 "nbformat_minor": 4
}
