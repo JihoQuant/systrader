{
 "cells": [
  {
   "cell_type": "code",
   "execution_count": 1,
   "metadata": {},
   "outputs": [],
   "source": [
    "%load_ext autoreload\n",
    "%autoreload 2\n",
    "\n",
    "import sys\n",
    "from PyQt5.QtWidgets import QApplication\n",
    "\n",
    "from kiwoom import Kiwoom"
   ]
  },
  {
   "cell_type": "code",
   "execution_count": 2,
   "metadata": {},
   "outputs": [],
   "source": [
    "app = QApplication(sys.argv)\n",
    "hts = Kiwoom()"
   ]
  },
  {
   "cell_type": "code",
   "execution_count": null,
   "metadata": {},
   "outputs": [
    {
     "name": "stdout",
     "output_type": "stream",
     "text": [
      "로그인 시도\n",
      "2020-08-27 18:14:21 DEBUG    초기 요청 준비\n",
      "2020-08-27 18:14:21 DEBUG    요청 실행: kiwoom_CommConnect () {}\n"
     ]
    }
   ],
   "source": [
    "# login\n",
    "if hts.kiwoom_GetConnectState() == 0:\n",
    "    print('로그인 시도')\n",
    "    res = hts.kiwoom_CommConnect()\n",
    "    print('로그인 결과: {}'.format(res))\n",
    "    if res.get('result') != 0:\n",
    "        print(\"로그인 실패\")"
   ]
  },
  {
   "cell_type": "code",
   "execution_count": null,
   "metadata": {},
   "outputs": [],
   "source": []
  }
 ],
 "metadata": {
  "kernelspec": {
   "display_name": "Python 3",
   "language": "python",
   "name": "python3"
  },
  "language_info": {
   "codemirror_mode": {
    "name": "ipython",
    "version": 3
   },
   "file_extension": ".py",
   "mimetype": "text/x-python",
   "name": "python",
   "nbconvert_exporter": "python",
   "pygments_lexer": "ipython3",
   "version": "3.7.4"
  }
 },
 "nbformat": 4,
 "nbformat_minor": 4
}
