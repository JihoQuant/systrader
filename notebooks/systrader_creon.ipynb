{
 "cells": [
  {
   "cell_type": "code",
   "execution_count": 1,
   "metadata": {},
   "outputs": [],
   "source": [
    "%load_ext autoreload\n",
    "%autoreload 2\n",
    "\n",
    "from quantylab.systrader.creon.control import Creon "
   ]
  },
  {
   "cell_type": "code",
   "execution_count": 2,
   "metadata": {},
   "outputs": [],
   "source": [
    "c = Creon()"
   ]
  },
  {
   "cell_type": "code",
   "execution_count": 3,
   "metadata": {},
   "outputs": [],
   "source": [
    "def cb(item):\n",
    "    print(item['name'], item['price'])"
   ]
  },
  {
   "cell_type": "code",
   "execution_count": 6,
   "metadata": {},
   "outputs": [
    {
     "name": "stdout",
     "output_type": "stream",
     "text": [
      "NAVER 389500\n",
      "미래에셋증권 9990\n",
      "미래에셋증권 10000\n",
      "NAVER 390000\n",
      "NAVER 389500\n",
      "NAVER 389500\n",
      "미래에셋증권 9990\n",
      "NAVER 389500\n",
      "NAVER 389500\n",
      "미래에셋증권 9990\n",
      "미래에셋증권 9990\n",
      "미래에셋증권 9990\n",
      "미래에셋증권 10000\n",
      "미래에셋증권 9990\n",
      "NAVER 390000\n",
      "NAVER 389500\n",
      "NAVER 389500\n",
      "미래에셋증권 9990\n",
      "NAVER 389500\n",
      "NAVER 390000\n",
      "미래에셋증권 9990\n",
      "NAVER 389500\n",
      "미래에셋증권 9990\n",
      "NAVER 389500\n",
      "NAVER 389500\n",
      "NAVER 389500\n",
      "미래에셋증권 9990\n",
      "NAVER 389500\n",
      "NAVER 390000\n",
      "NAVER 389500\n",
      "미래에셋증권 9990\n",
      "미래에셋증권 9990\n",
      "NAVER 389500\n",
      "NAVER 389500\n"
     ]
    }
   ],
   "source": [
    "c.subscribe_stockcur('035420', cb)\n",
    "c.subscribe_stockcur('006800', cb)"
   ]
  },
  {
   "cell_type": "code",
   "execution_count": 7,
   "metadata": {},
   "outputs": [],
   "source": [
    "c.unsubscribe_stockcur()"
   ]
  }
 ],
 "metadata": {
  "kernelspec": {
   "display_name": "Python 3",
   "language": "python",
   "name": "python3"
  },
  "language_info": {
   "codemirror_mode": {
    "name": "ipython",
    "version": 3
   },
   "file_extension": ".py",
   "mimetype": "text/x-python",
   "name": "python",
   "nbconvert_exporter": "python",
   "pygments_lexer": "ipython3",
   "version": "3.8.5"
  }
 },
 "nbformat": 4,
 "nbformat_minor": 4
}
